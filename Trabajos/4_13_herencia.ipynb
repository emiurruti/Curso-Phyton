{
 "cells": [
  {
   "cell_type": "markdown",
   "metadata": {},
   "source": [
    "# Introducción a la Herencia en la ramita\n",
    "\n",
    "En nuestro viaje por el mundo de la Programación Orientada a Objetos (POO), hemos creado clases que representan entidades en una biblioteca, como `Autor` y `Libro`. Pero, ¿qué pasa si queremos crear nuevas clases que compartan características con las ya existentes, pero con algunas diferencias o adicionales? ¡Aquí es donde entra en juego la herencia!\n",
    "\n",
    "### Pregunta problema: \n",
    "¿Cómo podemos extender nuestras clases existentes para representar diferentes tipos de autores o libros, sin tener que reescribir todo el código?\n",
    "\n"
   ]
  },
  {
   "cell_type": "code",
   "execution_count": null,
   "metadata": {},
   "outputs": [],
   "source": [
    "# Definimos la clase base Autor\n",
    "class Autor:\n",
    "    def __init__(self, nombre):\n",
    "        self.nombre = nombre"
   ]
  },
  {
   "cell_type": "markdown",
   "metadata": {},
   "source": [
    "## Conceptos Clave de la Herencia\n",
    "\n",
    "La **herencia** permite que una clase (llamada subclase o clase hija) herede atributos y métodos de otra clase (llamada superclase o clase base). La herencia facilita la reutilización y extensión del código.\n",
    "\n",
    "- **Herencia Simple:** Una clase deriva de una única clase base.\n",
    "- **Herencia Múltiple:** Una clase puede derivar de varias clases base.\n",
    "- **super():** Función que permite llamar a métodos de la clase base desde la clase derivada."
   ]
  },
  {
   "cell_type": "code",
   "execution_count": null,
   "metadata": {},
   "outputs": [],
   "source": [
    "# Creamos una subclase Escritor que hereda de Autor\n",
    "class Escritor(Autor):\n",
    "    def __init__(self, nombre, genero):\n",
    "        super().__init__(nombre)\n",
    "        self.genero = genero"
   ]
  },
  {
   "cell_type": "markdown",
   "metadata": {},
   "source": [
    "## Ejemplos Prácticos de Herencia\n",
    "\n",
    "Vamos a extender nuestra clase `Autor` para crear una nueva clase `Escritor` que tenga un atributo adicional: el género literario principal en el que escribe.\n"
   ]
  },
  {
   "cell_type": "code",
   "execution_count": null,
   "metadata": {},
   "outputs": [],
   "source": [
    "# Instanciamos un objeto de la clase Escritor\n",
    "escritor = Escritor(\"Gabriel García Márquez\", \"Realismo Mágico\")\n",
    "print(escritor.nombre, escritor.genero)"
   ]
  },
  {
   "cell_type": "markdown",
   "metadata": {},
   "source": [
    "## Herencia Múltiple\n",
    "\n",
    "En Python, una clase puede heredar de varias clases base, lo que se conoce como herencia múltiple. Aunque puede ser útil, también puede llevar a complicaciones si varias clases base tienen atributos o métodos con el mismo nombre.\n"
   ]
  },
  {
   "cell_type": "code",
   "execution_count": null,
   "metadata": {},
   "outputs": [],
   "source": [
    "# Definimos una segunda clase base\n",
    "class Academico:\n",
    "    def __init__(self, universidad):\n",
    "        self.universidad = universidad\n",
    "\n",
    "# Creamos una clase que hereda de Escritor y Academico\n",
    "class EscritorAcademico(Escritor, Academico):\n",
    "    def __init__(self, nombre, genero, universidad):\n",
    "        Escritor.__init__(self, nombre, genero)\n",
    "        Academico.__init__(self, universidad)"
   ]
  },
  {
   "cell_type": "markdown",
   "metadata": {},
   "source": [
    "## Desafíos\n",
    "\n",
    "### Desafío 1: \n",
    "Crea una clase `Novelista` que herede de `Escritor` y añade un atributo para el número de novelas escritas.\n",
    "\n",
    "### Desafío 2: \n",
    "Implementa una clase `Poeta` que herede de `Autor` y tenga un atributo para el tipo de poesía que escribe.\n",
    "\n",
    "### Desafío 3: \n",
    "Reflexiona sobre cómo podrías utilizar la herencia para representar diferentes tipos de libros en nuestra biblioteca, como `LibroFiccion` y `LibroAcademico`.\n",
    "\n"
   ]
  },
  {
   "cell_type": "markdown",
   "metadata": {},
   "source": [
    "## Referencias\n",
    "\n",
    "- [Documentación oficial de Python sobre herencia](https://docs.python.org/3/tutorial/classes.html#inheritance)\n",
    "- [Real Python: Inheritance and Composition](https://realpython.com/inheritance-composition-python/)\n",
    "- [Python Course: Inheritance](https://www.python-course.eu/python3_inheritance.php)\n"
   ]
  },
  {
   "cell_type": "code",
   "execution_count": 4,
   "metadata": {},
   "outputs": [
    {
     "ename": "NameError",
     "evalue": "name 'Libro' is not defined",
     "output_type": "error",
     "traceback": [
      "\u001b[1;31m---------------------------------------------------------------------------\u001b[0m",
      "\u001b[1;31mNameError\u001b[0m                                 Traceback (most recent call last)",
      "\u001b[1;32mc:\\Programaciòn 1\\Curso-Phyton\\Trabajos\\4_13_herencia.ipynb Celda 11\u001b[0m line \u001b[0;36m2\n\u001b[0;32m      <a href='vscode-notebook-cell:/c%3A/Programaci%C3%B2n%201/Curso-Phyton/Trabajos/4_13_herencia.ipynb#X13sZmlsZQ%3D%3D?line=0'>1</a>\u001b[0m \u001b[39m# Creamos una clase que hereda de LibroFiccion y LibroAcademico\u001b[39;00m\n\u001b[1;32m----> <a href='vscode-notebook-cell:/c%3A/Programaci%C3%B2n%201/Curso-Phyton/Trabajos/4_13_herencia.ipynb#X13sZmlsZQ%3D%3D?line=1'>2</a>\u001b[0m \u001b[39mclass\u001b[39;00m \u001b[39mLibroFiccion\u001b[39;00m(Libro, Ficcion):\n\u001b[0;32m      <a href='vscode-notebook-cell:/c%3A/Programaci%C3%B2n%201/Curso-Phyton/Trabajos/4_13_herencia.ipynb#X13sZmlsZQ%3D%3D?line=2'>3</a>\u001b[0m     \u001b[39mdef\u001b[39;00m \u001b[39m__init__\u001b[39m(\u001b[39mself\u001b[39m, nombre, genero):\n\u001b[0;32m      <a href='vscode-notebook-cell:/c%3A/Programaci%C3%B2n%201/Curso-Phyton/Trabajos/4_13_herencia.ipynb#X13sZmlsZQ%3D%3D?line=3'>4</a>\u001b[0m         Libro\u001b[39m.\u001b[39m\u001b[39m__init__\u001b[39m(\u001b[39mself\u001b[39m, nombre)\n",
      "\u001b[1;31mNameError\u001b[0m: name 'Libro' is not defined"
     ]
    }
   ],
   "source": [
    "\n",
    "\n",
    "# Creamos una clase que hereda de LibroFiccion y LibroAcademico\n",
    "class LibroFiccion(Libro, Ficcion):\n",
    "    def __init__(self, nombre, genero):\n",
    "        Libro.__init__(self, nombre)\n",
    "        Ficcion.__init__(self, genero)\n",
    "\n",
    "class LibroAcademico(Libro, Academico):\n",
    "    def __init__(self, nombre, universidad):\n",
    "        Libro.__init__(self, nombre)\n",
    "        Academico.__init__(self, universidad)        "
   ]
  },
  {
   "cell_type": "code",
   "execution_count": null,
   "metadata": {},
   "outputs": [],
   "source": []
  }
 ],
 "metadata": {
  "kernelspec": {
   "display_name": "Python 3",
   "language": "python",
   "name": "python3"
  },
  "language_info": {
   "codemirror_mode": {
    "name": "ipython",
    "version": 3
   },
   "file_extension": ".py",
   "mimetype": "text/x-python",
   "name": "python",
   "nbconvert_exporter": "python",
   "pygments_lexer": "ipython3",
   "version": "3.11.5"
  },
  "orig_nbformat": 4
 },
 "nbformat": 4,
 "nbformat_minor": 2
}
